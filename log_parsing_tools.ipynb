{
 "cells": [
  {
   "cell_type": "code",
   "execution_count": 1,
   "metadata": {},
   "outputs": [],
   "source": [
    "log_file = \"supbundle/logs/cattle-fleet-local-system/fleet-agent-6d5df7d9cd-5897v/fleet-agent.log\"\n",
    "# log_file = \"supbundle/logs/cattle-logging-system/harvester-default-event-tailer-0/event-tailer.log\"\n"
   ]
  },
  {
   "cell_type": "markdown",
   "metadata": {},
   "source": [
    "## Tool1: given a logfile, get the log templates"
   ]
  },
  {
   "cell_type": "code",
   "execution_count": 2,
   "metadata": {},
   "outputs": [
    {
     "name": "stdout",
     "output_type": "stream",
     "text": [
      "----------clusters:--------------------\n",
      "ID=8     : size=20704     : <UTCDATE> time = <UTCDATE> level = info msg = getting history for release <*>\n",
      "ID=7     : size=5176      : <UTCDATE> time = <UTCDATE> level = info msg = Deploying bundle <TOKENWITHDIGIT><PATH>\n",
      "ID=9     : size=32        : <UTCDATE> time = <UTCDATE> level = info msg = Deleting orphan bundle ID <TOKENWITHDIGIT> release kube-system<PATH>\n",
      "ID=11    : size=11        : <UTCDATE> time = <UTCDATE> level = error msg = bundle mcc-harvester : daemonset.apps <*> progressing Available : <NUM>/<NUM>\n",
      "ID=12    : size=8         : <UTCDATE> time = <UTCDATE> level = error msg = bundle mcc-harvester : kubevirt.kubevirt.io harvester-system<PATH> progressing Deploying version <TOKENWITHDIGIT> with registry registry.suse.com<PATH> Resource is current\n",
      "ID=6     : size=5         : <UTCDATE> time = <UTCDATE> level = info msg = Starting <*> Kind = <*> controller\n",
      "ID=13    : size=3         : <UTCDATE> time = <UTCDATE> level = error msg = bundle mcc-harvester : kubevirt.kubevirt.io harvester-system<PATH> progressing KubeVirt generation is <NUM> but latest observed generation is <NUM>\n",
      "ID=14    : size=2         : <UTCDATE> time = <UTCDATE> level = error msg = bundle mcc-harvester : kubevirt.kubevirt.io harvester-system<PATH> progressing Deploying version <TOKENWITHDIGIT> with registry registry.suse.com<PATH> KubeVirt generation is <NUM> but latest observed generation is <NUM>\n",
      "ID=1     : size=1         : <UTCDATE> <KLOGDATE> <NUM> <GOFILEPATH> attempting to acquire leader lease cattle-fleet-local-system<PATH>...\n",
      "ID=2     : size=1         : <UTCDATE> <KLOGDATE> <NUM> <GOFILEPATH> successfully acquired lease cattle-fleet-local-system<PATH>\n",
      "ID=3     : size=1         : <UTCDATE> time = <UTCDATE> level = warning msg = Cannot find fleet-agent secret running registration\n",
      "ID=4     : size=1         : <UTCDATE> time = <UTCDATE> level = info msg = Creating clusterregistration with id <TOKENWITHDIGIT> for new token\n",
      "ID=5     : size=1         : <UTCDATE> time = <UTCDATE> level = info msg = Waiting for secret cattle-fleet-clusters-system<PATH> on management cluster for request fleet-local<PATH> : secrets <TOKENWITHDIGIT>\\ not found\n",
      "ID=10    : size=1         : <UTCDATE> <KLOGDATE> <NUM> <GOFILEPATH> Waited for <DURATION> due to client-side throttling not priority and fairness request : GET : <URL>\n"
     ]
    }
   ],
   "source": [
    "from drain_parse import get_log_templates, get_parameters_by_cluster\n",
    "\n",
    "clusters, template_miner, log_lines = get_log_templates(log_file)\n"
   ]
  },
  {
   "cell_type": "markdown",
   "metadata": {},
   "source": [
    "## Tool2: given the log_file and the template_miner, get the parameters by cluster\n",
    "then for each cluster ID, we can return the parameters"
   ]
  },
  {
   "cell_type": "code",
   "execution_count": 3,
   "metadata": {},
   "outputs": [
    {
     "name": "stdout",
     "output_type": "stream",
     "text": [
      "[{'<UTCDATE>': '2024-08-06T02:15:13.241438744Z'}, {'<UTCDATE>': '2024-08-06T02:15:13Z'}, {'<*>': '/v1'}, {'<*>': 'Node'}]\n",
      "[{'<UTCDATE>': '2024-08-06T02:15:13.241511402Z'}, {'<UTCDATE>': '2024-08-06T02:15:13Z'}, {'<*>': '/v1'}, {'<*>': 'ServiceAccount'}]\n",
      "[{'<UTCDATE>': '2024-08-06T02:15:13.241630900Z'}, {'<UTCDATE>': '2024-08-06T02:15:13Z'}, {'<*>': '/v1'}, {'<*>': 'Secret'}]\n",
      "[{'<UTCDATE>': '2024-08-06T02:15:13.241684632Z'}, {'<UTCDATE>': '2024-08-06T02:15:13Z'}, {'<*>': '/v1'}, {'<*>': 'ConfigMap'}]\n",
      "[{'<UTCDATE>': '2024-08-06T02:15:13.293599109Z'}, {'<UTCDATE>': '2024-08-06T02:15:13Z'}, {'<*>': 'fleet.cattle.io<PATH>'}, {'<*>': 'BundleDeployment'}]\n"
     ]
    }
   ],
   "source": [
    "parameters_by_cluster = get_parameters_by_cluster(template_miner, log_lines)\n",
    "for p in parameters_by_cluster[6]:\n",
    "    print(p)\n"
   ]
  }
 ],
 "metadata": {
  "kernelspec": {
   "display_name": "otto8-log-tool-Tt2WJkHQ-py3.9",
   "language": "python",
   "name": "python3"
  },
  "language_info": {
   "codemirror_mode": {
    "name": "ipython",
    "version": 3
   },
   "file_extension": ".py",
   "mimetype": "text/x-python",
   "name": "python",
   "nbconvert_exporter": "python",
   "pygments_lexer": "ipython3",
   "version": "3.9.17"
  }
 },
 "nbformat": 4,
 "nbformat_minor": 2
}
